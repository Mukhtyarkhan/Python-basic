char=input("Enter a character:  ").lower()
if char in "aeiou":
    print(char, "char is vowal")
else:
    print(char, "char is consonant.")
