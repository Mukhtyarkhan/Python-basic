str = input("Enter the string: ")
rev = ""

for ch in str:
	rev = ch + rev

if rev == str:
	print(str, " is a palindrome")
else:
	print(str, " is not a palindrome")
